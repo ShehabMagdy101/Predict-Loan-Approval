{
 "cells": [
  {
   "cell_type": "code",
   "execution_count": 6,
   "id": "62fe3ca6-a418-402e-ba50-a3146f18f12e",
   "metadata": {},
   "outputs": [],
   "source": [
    "# import libraries\n",
    "import pandas as pd\n",
    "import numpy as np\n",
    "from sklearn.preprocessing import LabelEncoder\n",
    "from sklearn.linear_model import LogisticRegression\n",
    "from sklearn.model_selection import train_test_split\n",
    "from sklearn.metrics import accuracy_score\n",
    "import joblib\n",
    "import warnings \n",
    "\n",
    "warnings.filterwarnings('ignore')"
   ]
  },
  {
   "cell_type": "code",
   "execution_count": 8,
   "id": "c8ae4652-2f5b-4894-9bb6-d49b5b25df95",
   "metadata": {},
   "outputs": [
    {
     "data": {
      "text/html": [
       "<div>\n",
       "<style scoped>\n",
       "    .dataframe tbody tr th:only-of-type {\n",
       "        vertical-align: middle;\n",
       "    }\n",
       "\n",
       "    .dataframe tbody tr th {\n",
       "        vertical-align: top;\n",
       "    }\n",
       "\n",
       "    .dataframe thead th {\n",
       "        text-align: right;\n",
       "    }\n",
       "</style>\n",
       "<table border=\"1\" class=\"dataframe\">\n",
       "  <thead>\n",
       "    <tr style=\"text-align: right;\">\n",
       "      <th></th>\n",
       "      <th>Text</th>\n",
       "      <th>Income</th>\n",
       "      <th>Credit_Score</th>\n",
       "      <th>Loan_Amount</th>\n",
       "      <th>DTI_Ratio</th>\n",
       "      <th>Employment_Status</th>\n",
       "      <th>Approval</th>\n",
       "    </tr>\n",
       "  </thead>\n",
       "  <tbody>\n",
       "    <tr>\n",
       "      <th>0</th>\n",
       "      <td>I need a loan to pay for an international vaca...</td>\n",
       "      <td>26556</td>\n",
       "      <td>581</td>\n",
       "      <td>8314</td>\n",
       "      <td>79.26</td>\n",
       "      <td>employed</td>\n",
       "      <td>Rejected</td>\n",
       "    </tr>\n",
       "    <tr>\n",
       "      <th>1</th>\n",
       "      <td>I want to make home improvements like installi...</td>\n",
       "      <td>197392</td>\n",
       "      <td>389</td>\n",
       "      <td>111604</td>\n",
       "      <td>22.14</td>\n",
       "      <td>employed</td>\n",
       "      <td>Rejected</td>\n",
       "    </tr>\n",
       "    <tr>\n",
       "      <th>2</th>\n",
       "      <td>I need a loan for home renovation, including a...</td>\n",
       "      <td>44561</td>\n",
       "      <td>523</td>\n",
       "      <td>34118</td>\n",
       "      <td>45.44</td>\n",
       "      <td>employed</td>\n",
       "      <td>Rejected</td>\n",
       "    </tr>\n",
       "    <tr>\n",
       "      <th>3</th>\n",
       "      <td>I need funds to buy new furniture and applianc...</td>\n",
       "      <td>190363</td>\n",
       "      <td>729</td>\n",
       "      <td>118757</td>\n",
       "      <td>10.22</td>\n",
       "      <td>unemployed</td>\n",
       "      <td>Rejected</td>\n",
       "    </tr>\n",
       "    <tr>\n",
       "      <th>4</th>\n",
       "      <td>I need a loan to start a small business.</td>\n",
       "      <td>61853</td>\n",
       "      <td>732</td>\n",
       "      <td>19210</td>\n",
       "      <td>44.13</td>\n",
       "      <td>employed</td>\n",
       "      <td>Approved</td>\n",
       "    </tr>\n",
       "  </tbody>\n",
       "</table>\n",
       "</div>"
      ],
      "text/plain": [
       "                                                Text  Income  Credit_Score  \\\n",
       "0  I need a loan to pay for an international vaca...   26556           581   \n",
       "1  I want to make home improvements like installi...  197392           389   \n",
       "2  I need a loan for home renovation, including a...   44561           523   \n",
       "3  I need funds to buy new furniture and applianc...  190363           729   \n",
       "4           I need a loan to start a small business.   61853           732   \n",
       "\n",
       "   Loan_Amount  DTI_Ratio Employment_Status  Approval  \n",
       "0         8314      79.26          employed  Rejected  \n",
       "1       111604      22.14          employed  Rejected  \n",
       "2        34118      45.44          employed  Rejected  \n",
       "3       118757      10.22        unemployed  Rejected  \n",
       "4        19210      44.13          employed  Approved  "
      ]
     },
     "execution_count": 8,
     "metadata": {},
     "output_type": "execute_result"
    }
   ],
   "source": [
    "raw_data = pd.read_csv(\"loan_data.csv\")\n",
    "df = pd.DataFrame(raw_data)\n",
    "df.head()"
   ]
  },
  {
   "cell_type": "code",
   "execution_count": 10,
   "id": "f8926ce8-5403-499a-9a42-3b3655952c78",
   "metadata": {},
   "outputs": [
    {
     "data": {
      "text/html": [
       "<div>\n",
       "<style scoped>\n",
       "    .dataframe tbody tr th:only-of-type {\n",
       "        vertical-align: middle;\n",
       "    }\n",
       "\n",
       "    .dataframe tbody tr th {\n",
       "        vertical-align: top;\n",
       "    }\n",
       "\n",
       "    .dataframe thead th {\n",
       "        text-align: right;\n",
       "    }\n",
       "</style>\n",
       "<table border=\"1\" class=\"dataframe\">\n",
       "  <thead>\n",
       "    <tr style=\"text-align: right;\">\n",
       "      <th></th>\n",
       "      <th>Income</th>\n",
       "      <th>Credit_Score</th>\n",
       "      <th>Loan_Amount</th>\n",
       "      <th>DTI_Ratio</th>\n",
       "      <th>Employment_Status</th>\n",
       "      <th>Approval</th>\n",
       "    </tr>\n",
       "  </thead>\n",
       "  <tbody>\n",
       "    <tr>\n",
       "      <th>0</th>\n",
       "      <td>26556</td>\n",
       "      <td>581</td>\n",
       "      <td>8314</td>\n",
       "      <td>79.26</td>\n",
       "      <td>employed</td>\n",
       "      <td>Rejected</td>\n",
       "    </tr>\n",
       "    <tr>\n",
       "      <th>1</th>\n",
       "      <td>197392</td>\n",
       "      <td>389</td>\n",
       "      <td>111604</td>\n",
       "      <td>22.14</td>\n",
       "      <td>employed</td>\n",
       "      <td>Rejected</td>\n",
       "    </tr>\n",
       "  </tbody>\n",
       "</table>\n",
       "</div>"
      ],
      "text/plain": [
       "   Income  Credit_Score  Loan_Amount  DTI_Ratio Employment_Status  Approval\n",
       "0   26556           581         8314      79.26          employed  Rejected\n",
       "1  197392           389       111604      22.14          employed  Rejected"
      ]
     },
     "execution_count": 10,
     "metadata": {},
     "output_type": "execute_result"
    }
   ],
   "source": [
    "#  preprocessing\n",
    "df = df.drop(columns = [\"Text\"])\n",
    "df.head(2)"
   ]
  },
  {
   "cell_type": "code",
   "execution_count": 12,
   "id": "8574c8d6-98de-4c66-9338-f0cb38eaadb5",
   "metadata": {},
   "outputs": [
    {
     "name": "stdout",
     "output_type": "stream",
     "text": [
      "['employed' 'unemployed']\n",
      "['Rejected' 'Approved']\n"
     ]
    }
   ],
   "source": [
    "# checking categorical data unique values\n",
    "print(df['Employment_Status'].unique())\n",
    "print(df['Approval'].unique())"
   ]
  },
  {
   "cell_type": "code",
   "execution_count": 14,
   "id": "24e4cdf8-9ce6-4781-b49e-c80dcbcf972c",
   "metadata": {},
   "outputs": [],
   "source": [
    "# categorical encoding\n",
    "label_encoder = LabelEncoder()\n",
    "df['Employment_Status'] = label_encoder.fit_transform(df['Employment_Status'])\n",
    "df['Approval'] = label_encoder.fit_transform(df['Approval'])"
   ]
  },
  {
   "cell_type": "markdown",
   "id": "2e75b808-10ed-4ad3-b07c-a24480f30588",
   "metadata": {},
   "source": [
    "- `Employment_Status`: {employed: 0 , unemployed: 1}\n",
    "- `Approval`: {Approved 0 : Rejected: 1}"
   ]
  },
  {
   "cell_type": "code",
   "execution_count": 16,
   "id": "40f993d4-b26c-4abc-b1e6-1feaba3ff087",
   "metadata": {},
   "outputs": [
    {
     "data": {
      "text/html": [
       "<div>\n",
       "<style scoped>\n",
       "    .dataframe tbody tr th:only-of-type {\n",
       "        vertical-align: middle;\n",
       "    }\n",
       "\n",
       "    .dataframe tbody tr th {\n",
       "        vertical-align: top;\n",
       "    }\n",
       "\n",
       "    .dataframe thead th {\n",
       "        text-align: right;\n",
       "    }\n",
       "</style>\n",
       "<table border=\"1\" class=\"dataframe\">\n",
       "  <thead>\n",
       "    <tr style=\"text-align: right;\">\n",
       "      <th></th>\n",
       "      <th>Income</th>\n",
       "      <th>Credit_Score</th>\n",
       "      <th>Loan_Amount</th>\n",
       "      <th>DTI_Ratio</th>\n",
       "      <th>Employment_Status</th>\n",
       "      <th>Approval</th>\n",
       "    </tr>\n",
       "  </thead>\n",
       "  <tbody>\n",
       "    <tr>\n",
       "      <th>0</th>\n",
       "      <td>26556</td>\n",
       "      <td>581</td>\n",
       "      <td>8314</td>\n",
       "      <td>79.26</td>\n",
       "      <td>0</td>\n",
       "      <td>1</td>\n",
       "    </tr>\n",
       "    <tr>\n",
       "      <th>1</th>\n",
       "      <td>197392</td>\n",
       "      <td>389</td>\n",
       "      <td>111604</td>\n",
       "      <td>22.14</td>\n",
       "      <td>0</td>\n",
       "      <td>1</td>\n",
       "    </tr>\n",
       "  </tbody>\n",
       "</table>\n",
       "</div>"
      ],
      "text/plain": [
       "   Income  Credit_Score  Loan_Amount  DTI_Ratio  Employment_Status  Approval\n",
       "0   26556           581         8314      79.26                  0         1\n",
       "1  197392           389       111604      22.14                  0         1"
      ]
     },
     "execution_count": 16,
     "metadata": {},
     "output_type": "execute_result"
    }
   ],
   "source": [
    "df.head(2)"
   ]
  },
  {
   "cell_type": "code",
   "execution_count": 18,
   "id": "0e079c39-f789-4a64-a105-f7867583eabf",
   "metadata": {},
   "outputs": [
    {
     "name": "stdout",
     "output_type": "stream",
     "text": [
      "0.8297916666666667\n"
     ]
    }
   ],
   "source": [
    "## Modeling\n",
    "X = df.iloc[:, :-1]\n",
    "y = df.iloc[:, -1]\n",
    "\n",
    "X_train, X_test, y_train, y_test = train_test_split(X, y, test_size = 0.2, random_state = 23)\n",
    "\n",
    "clsf_model = LogisticRegression(max_iter = 10000, random_state = 0)\n",
    "clsf_model.fit(X_train, y_train)\n",
    "\n",
    "y_pred = clsf_model.predict(X_test)\n",
    "print(accuracy_score(y_test, y_pred))"
   ]
  },
  {
   "cell_type": "markdown",
   "id": "8fcb38b5-ebb0-4d29-9422-535f8cc61b33",
   "metadata": {},
   "source": [
    "## Deployment"
   ]
  },
  {
   "cell_type": "code",
   "execution_count": 103,
   "id": "f4890795-647c-4910-82ea-eac69d855c6f",
   "metadata": {},
   "outputs": [
    {
     "name": "stdout",
     "output_type": "stream",
     "text": [
      "Requirement already satisfied: joblib in c:\\users\\sheha\\anaconda3\\lib\\site-packages (1.2.0)\n",
      "Note: you may need to restart the kernel to use updated packages.\n"
     ]
    }
   ],
   "source": [
    "pip install joblib"
   ]
  },
  {
   "cell_type": "code",
   "execution_count": 20,
   "id": "3ea63dbe-edbf-4b16-8a43-b8586df9aa0a",
   "metadata": {},
   "outputs": [
    {
     "data": {
      "text/plain": [
       "['model.pkl']"
      ]
     },
     "execution_count": 20,
     "metadata": {},
     "output_type": "execute_result"
    }
   ],
   "source": [
    "#save the trained model\n",
    "joblib.dump(clsf_model, 'model.pkl')"
   ]
  },
  {
   "cell_type": "code",
   "execution_count": 24,
   "id": "0435b50a-0d13-4767-8ddf-d89dae118ff5",
   "metadata": {},
   "outputs": [
    {
     "data": {
      "text/plain": [
       "1"
      ]
     },
     "execution_count": 24,
     "metadata": {},
     "output_type": "execute_result"
    }
   ],
   "source": [
    "## loading the model\n",
    "\n",
    "loaded_model = joblib.load('model.pkl')\n",
    "\n",
    "# predictions = loaded_model.predict(X_test)\n",
    "\n",
    "new_data = np.array([[20000, 400,50000, 7, 1]])\n",
    "\n",
    "predictions = loaded_model.predict(new_data)\n",
    "\n",
    "predictions[0] "
   ]
  }
 ],
 "metadata": {
  "kernelspec": {
   "display_name": "Python [conda env:base] *",
   "language": "python",
   "name": "conda-base-py"
  },
  "language_info": {
   "codemirror_mode": {
    "name": "ipython",
    "version": 3
   },
   "file_extension": ".py",
   "mimetype": "text/x-python",
   "name": "python",
   "nbconvert_exporter": "python",
   "pygments_lexer": "ipython3",
   "version": "3.11.7"
  }
 },
 "nbformat": 4,
 "nbformat_minor": 5
}
